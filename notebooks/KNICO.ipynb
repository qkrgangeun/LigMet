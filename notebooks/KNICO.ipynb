{
 "cells": [
  {
   "cell_type": "code",
   "execution_count": 4,
   "metadata": {},
   "outputs": [
    {
     "name": "stderr",
     "output_type": "stream",
     "text": [
      "Processing: 100%|██████████| 15622/15622 [08:14<00:00, 31.56it/s]  "
     ]
    },
    {
     "name": "stdout",
     "output_type": "stream",
     "text": [
      "  metal_type  grid_points_within_2A\n",
      "0         MN                  19655\n",
      "1         ZN                  62491\n",
      "2         MG                  46310\n",
      "3         CA                 117550\n",
      "4         CU                   7502\n",
      "5         FE                   6331\n",
      "6         CO                   4666\n",
      "7          K                    471\n",
      "8         NI                    296\n"
     ]
    },
    {
     "name": "stderr",
     "output_type": "stream",
     "text": [
      "\n"
     ]
    }
   ],
   "source": [
    "import numpy as np\n",
    "import pandas as pd\n",
    "from pathlib import Path\n",
    "from collections import defaultdict\n",
    "from tqdm import tqdm\n",
    "from scipy.spatial.distance import cdist\n",
    "\n",
    "# 설정\n",
    "pdb_file = Path(\"/home/qkrgangeun/LigMet/code/text/biolip/filtered/train_pdbs_chain1_10000.txt\")\n",
    "dl_dir = Path(\"/home/qkrgangeun/LigMet/data/biolip_backup/dl/features\")\n",
    "metal_label_dir = Path(\"/home/qkrgangeun/LigMet/data/biolip_backup/metal_label\")\n",
    "rf_dir = Path(\"/home/qkrgangeun/LigMet/data/biolip_backup/rf/grid_prob\")\n",
    "rf_threshold = 0.5\n",
    "target_metals = {\"MG\", \"ZN\", \"MN\", \"CA\", \"FE\", \"NI\", \"CO\", \"CU\", \"K\"}\n",
    "\n",
    "metal_to_counts = defaultdict(int)\n",
    "\n",
    "# pdb id 리스트 로드\n",
    "with open(pdb_file) as f:\n",
    "    pdb_ids = [line.strip() for line in f]\n",
    "\n",
    "# 통계 계산\n",
    "for pdb_id in tqdm(pdb_ids, desc=\"Processing\"):\n",
    "    try:\n",
    "        feature_path = dl_dir / f\"{pdb_id}.npz\"\n",
    "        rf_path = rf_dir / f\"{pdb_id}.npz\"\n",
    "        metal_path = metal_label_dir / f\"{pdb_id}.npz\"\n",
    "\n",
    "        data = np.load(feature_path, allow_pickle=True)\n",
    "        rf_data = np.load(rf_path)\n",
    "        metal_data = np.load(metal_path, allow_pickle=True)\n",
    "\n",
    "        metal_positions = metal_data[\"metal_positions\"]\n",
    "        metal_types = metal_data[\"metal_types\"]\n",
    "        grid_positions = data[\"grid_positions\"]\n",
    "        grid_probs = rf_data[\"prob\"]\n",
    "\n",
    "        grid_mask = grid_probs >= rf_threshold\n",
    "        filtered_grids = grid_positions[grid_mask]\n",
    "\n",
    "        for metal_pos, metal_type in zip(metal_positions, metal_types):\n",
    "            if metal_type not in target_metals:\n",
    "                continue\n",
    "            dists = cdist(filtered_grids, [metal_pos])\n",
    "            num_within_2A = np.sum(dists <= 2.0)\n",
    "            metal_to_counts[metal_type] += num_within_2A\n",
    "    except Exception as e:\n",
    "        print(e)\n",
    "        continue\n",
    "\n",
    "# 결과 저장\n",
    "df = pd.DataFrame(metal_to_counts.items(), columns=[\"metal_type\", \"grid_points_within_2A\"])\n",
    "df.to_csv(\"metal_rf_overlap_stats.csv\", index=False)\n",
    "print(df)\n"
   ]
  },
  {
   "cell_type": "code",
   "execution_count": 11,
   "metadata": {},
   "outputs": [
    {
     "name": "stderr",
     "output_type": "stream",
     "text": [
      "Processing: 100%|██████████| 15622/15622 [00:15<00:00, 1022.95it/s]"
     ]
    },
    {
     "name": "stdout",
     "output_type": "stream",
     "text": [
      "  metal_type  grid_points_within_2A\n",
      "0         MN                  19655\n",
      "1         ZN                  62491\n",
      "2         MG                  46310\n",
      "3         CA                 117550\n",
      "4         CU                   7502\n",
      "5         FE                   6331\n",
      "6         CO                   4666\n",
      "7          K                    471\n",
      "8         NI                    296\n"
     ]
    },
    {
     "name": "stderr",
     "output_type": "stream",
     "text": [
      "\n"
     ]
    }
   ],
   "source": [
    "import numpy as np\n",
    "import pandas as pd\n",
    "from pathlib import Path\n",
    "from collections import defaultdict\n",
    "from tqdm import tqdm\n",
    "from scipy.spatial.distance import cdist\n",
    "\n",
    "# 설정\n",
    "pdb_file = Path(\"/home/qkrgangeun/LigMet/code/text/biolip/filtered/train_pdbs_chain1_10000.txt\")\n",
    "dl_dir = Path(\"/home/qkrgangeun/LigMet/data/biolip_backup/dl/features\")\n",
    "metal_label_dir = Path(\"/home/qkrgangeun/LigMet/data/biolip_backup/metal_label\")\n",
    "rf_dir = Path(\"/home/qkrgangeun/LigMet/data/biolip_backup/rf/grid_prob\")\n",
    "rf_threshold = 0.5\n",
    "target_metals = {\"MG\", \"ZN\", \"MN\", \"CA\", \"FE\", \"NI\", \"CO\", \"CU\", \"K\"}\n",
    "\n",
    "metal_to_counts = defaultdict(int)\n",
    "\n",
    "# pdb id 리스트 로드\n",
    "with open(pdb_file) as f:\n",
    "    pdb_ids = [line.strip() for line in f]\n",
    "\n",
    "# 통계 계산\n",
    "for pdb_id in tqdm(pdb_ids, desc=\"Processing\"):\n",
    "    try:\n",
    "        feature_path = dl_dir / f\"{pdb_id}.npz\"\n",
    "        rf_path = rf_dir / f\"{pdb_id}.npz\"\n",
    "        metal_path = metal_label_dir / f\"{pdb_id}.npz\"\n",
    "\n",
    "        data = np.load(feature_path, allow_pickle=True)\n",
    "        rf_data = np.load(rf_path)\n",
    "        metal_data = np.load(metal_path, allow_pickle=True)\n",
    "\n",
    "        metal_positions = metal_data[\"metal_positions\"]\n",
    "        metal_types = metal_data[\"metal_types\"]\n",
    "        grid_positions = data[\"grid_positions\"]\n",
    "        grid_probs = rf_data[\"prob\"]\n",
    "\n",
    "        grid_mask = grid_probs >= rf_threshold\n",
    "        filtered_grids = grid_positions[grid_mask]\n",
    "\n",
    "        for metal_pos, metal_type in zip(metal_positions, metal_types):\n",
    "            if metal_type not in target_metals:\n",
    "                continue\n",
    "            dists = cdist(filtered_grids, [metal_pos])\n",
    "            num_within_2A = np.sum(dists <= 2.0)\n",
    "            metal_to_counts[metal_type] += num_within_2A\n",
    "    except Exception as e:\n",
    "        print(e)\n",
    "        continue\n",
    "\n",
    "# 결과 저장\n",
    "df = pd.DataFrame(metal_to_counts.items(), columns=[\"metal_type\", \"grid_points_within_2A\"])\n",
    "df.to_csv(\"metal_rf_overlap_stats.csv\", index=False)\n",
    "print(df)\n"
   ]
  },
  {
   "cell_type": "code",
   "execution_count": 10,
   "metadata": {},
   "outputs": [
    {
     "name": "stderr",
     "output_type": "stream",
     "text": [
      "Processing: 100%|██████████| 15622/15622 [00:23<00:00, 653.59it/s]"
     ]
    },
    {
     "name": "stdout",
     "output_type": "stream",
     "text": [
      "  metal_type  grid_points_within_2A  metal_sites_total  avg_grids_per_metal\n",
      "0         CA                 118241               8292            14.259648\n",
      "1         CO                   4672                548             8.525547\n",
      "2         CU                   7579               1042             7.273512\n",
      "3         FE                   6363                846             7.521277\n",
      "4          K                    471                 31            15.193548\n",
      "5         MG                  46490               3819            12.173344\n",
      "6         MN                  19682               1871            10.519508\n",
      "7         NI                    296                 38             7.789474\n",
      "8         ZN                  62780               8650             7.257803\n"
     ]
    },
    {
     "name": "stderr",
     "output_type": "stream",
     "text": [
      "\n"
     ]
    }
   ],
   "source": [
    "import numpy as np\n",
    "import pandas as pd\n",
    "from pathlib import Path\n",
    "from collections import defaultdict\n",
    "from tqdm import tqdm\n",
    "from scipy.spatial.distance import cdist\n",
    "\n",
    "# 설정\n",
    "pdb_file = Path(\"/home/qkrgangeun/LigMet/code/text/biolip/filtered/train_pdbs_chain1_10000.txt\")\n",
    "dl_dir = Path(\"/home/qkrgangeun/LigMet/data/biolip_backup/dl/features\")\n",
    "metal_label_dir = Path(\"/home/qkrgangeun/LigMet/data/biolip_backup/metal_label\")\n",
    "rf_dir = Path(\"/home/qkrgangeun/LigMet/data/biolip_backup/rf/grid_prob\")\n",
    "rf_threshold = 0.0\n",
    "target_metals = {\"MG\", \"ZN\", \"MN\", \"CA\", \"FE\", \"NI\", \"CO\", \"CU\", \"K\"}\n",
    "\n",
    "metal_to_counts = defaultdict(int)   # RF grid 2Å 이내 개수\n",
    "metal_to_total = defaultdict(int)    # 실제 metal 위치 수\n",
    "\n",
    "# pdb id 리스트 로드\n",
    "with open(pdb_file) as f:\n",
    "    pdb_ids = [line.strip() for line in f]\n",
    "\n",
    "# 통계 계산\n",
    "for pdb_id in tqdm(pdb_ids, desc=\"Processing\"):\n",
    "    try:\n",
    "        feature_path = dl_dir / f\"{pdb_id}.npz\"\n",
    "        rf_path = rf_dir / f\"{pdb_id}.npz\"\n",
    "        metal_path = metal_label_dir / f\"{pdb_id}.npz\"\n",
    "\n",
    "        data = np.load(feature_path, allow_pickle=True)\n",
    "        rf_data = np.load(rf_path)\n",
    "        metal_data = np.load(metal_path, allow_pickle=True)\n",
    "\n",
    "        metal_positions = metal_data[\"metal_positions\"]\n",
    "        metal_types = metal_data[\"metal_types\"]\n",
    "        grid_positions = data[\"grid_positions\"]\n",
    "        grid_probs = rf_data[\"prob\"]\n",
    "\n",
    "        grid_mask = grid_probs >= rf_threshold\n",
    "        filtered_grids = grid_positions[grid_mask]\n",
    "\n",
    "        for metal_pos, metal_type in zip(metal_positions, metal_types):\n",
    "            if metal_type not in target_metals:\n",
    "                continue\n",
    "            dists = cdist(filtered_grids, [metal_pos])\n",
    "            num_within_2A = np.sum(dists <= 2.0)\n",
    "            metal_to_counts[metal_type] += num_within_2A\n",
    "            metal_to_total[metal_type] += 1  # metal 위치 수\n",
    "    except Exception as e:\n",
    "        print(f\"[{pdb_id}] error: {e}\")\n",
    "        continue\n",
    "\n",
    "# 결과 저장\n",
    "df = pd.DataFrame([\n",
    "    {\n",
    "        \"metal_type\": metal,\n",
    "        \"grid_points_within_2A\": metal_to_counts[metal],\n",
    "        \"metal_sites_total\": metal_to_total[metal],\n",
    "        \"avg_grids_per_metal\": (\n",
    "            metal_to_counts[metal] / metal_to_total[metal]\n",
    "            if metal_to_total[metal] > 0 else 0.0\n",
    "        )\n",
    "    }\n",
    "    for metal in sorted(target_metals)\n",
    "])\n",
    "\n",
    "df.to_csv(\"metal_rf_overlap_stats.csv\", index=False)\n",
    "print(df)\n"
   ]
  },
  {
   "cell_type": "code",
   "execution_count": null,
   "metadata": {},
   "outputs": [],
   "source": []
  }
 ],
 "metadata": {
  "kernelspec": {
   "display_name": "se3_113",
   "language": "python",
   "name": "python3"
  },
  "language_info": {
   "codemirror_mode": {
    "name": "ipython",
    "version": 3
   },
   "file_extension": ".py",
   "mimetype": "text/x-python",
   "name": "python",
   "nbconvert_exporter": "python",
   "pygments_lexer": "ipython3",
   "version": "3.9.19"
  }
 },
 "nbformat": 4,
 "nbformat_minor": 2
}
