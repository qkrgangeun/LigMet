{
 "cells": [
  {
   "cell_type": "code",
   "execution_count": 3,
   "metadata": {},
   "outputs": [],
   "source": [
    "from dataclasses import dataclass\n",
    "import numpy as np\n",
    "import io\n",
    "from collections import defaultdict\n",
    "from Bio.PDB.PDBParser import PDBParser\n",
    "from ligmet.utils.constants import metals\n",
    "\n",
    "@dataclass\n",
    "class Structure:\n",
    "    atom_positions: np.ndarray  # [n_atoms, 3]\n",
    "    atom_names: np.ndarray  # [n_atoms, 1]\n",
    "    atom_elements: np.ndarray  # [n_atoms, 1]\n",
    "    atom_residues: np.ndarray  # [n_atoms, 1] if ligand: x\n",
    "    residue_idxs: np.ndarray #[n_atoms, 1]\n",
    "    is_ligand: np.ndarray  # [n_atoms, 1]\n",
    "    metal_positions: np.ndarray  # [n_metals, 3]\n",
    "    metal_types: np.ndarray  # [n_metals, 1]\n",
    "\n",
    "@dataclass\n",
    "class StructureWithGrid:\n",
    "    atom_positions: np.ndarray  # [n_atoms, 3]\n",
    "    atom_names: np.ndarray  # [n_atoms, 1]\n",
    "    atom_elements: np.ndarray  # [n_atoms, 1]\n",
    "    atom_residues: np.ndarray  # [n_atoms, 1] if ligand: x\n",
    "    residue_idxs: np.ndarray #[n_atoms, 1]\n",
    "    is_ligand: np.ndarray  # [n_atoms, 1]\n",
    "    metal_positions: np.ndarray  # [n_metals, 3]\n",
    "    metal_types: np.ndarray  # [n_metals, 1]\n",
    "    grid_positions: np.ndarray #[n_grids, 3]\n",
    "    \n",
    "def read_pdb(pdb_path) -> Structure:\n",
    "    with open(pdb_path, \"r\") as f:\n",
    "        pdb_str = f.read()\n",
    "    pdb_fh = io.StringIO(pdb_str)\n",
    "    parser = PDBParser(QUIET=True)\n",
    "    structure = parser.get_structure(\"none\", pdb_fh)\n",
    "    model = list(structure.get_models())[0]\n",
    "\n",
    "    data = defaultdict(list)\n",
    "\n",
    "    for chain in model:\n",
    "        for res in chain:\n",
    "            if res.id[2] != \" \":\n",
    "                raise ValueError(f\"Insertion code found at chain {chain.id}, residue {res.id[1]}\")\n",
    "            if res.id[0] == \" \":  # ATOM\n",
    "                for atom in res:\n",
    "                    data[\"atom_positions\"].append(atom.coord)\n",
    "                    data[\"atom_elements\"].append(atom.element)\n",
    "                    data[\"atom_residues\"].append(res.get_resname())\n",
    "                    data[\"atom_names\"].append(atom.name)\n",
    "                    data[\"is_ligand\"].append(0)\n",
    "                    data[\"residue_idxs\"].append(res.get_id()[1])\n",
    "            elif \"H_\" in res.id[0]:  # HETATM except water (which starts with \"W_\")\n",
    "                for atom in res.get_atoms():\n",
    "                    if atom.element in metals:\n",
    "                        data[\"metal_positions\"].append(atom.coord)\n",
    "                        data[\"metal_types\"].append(atom.element)\n",
    "                    else:  # Ligand\n",
    "                        data[\"atom_positions\"].append(atom.coord)\n",
    "                        data[\"atom_elements\"].append(atom.element)\n",
    "                        data[\"atom_residues\"].append(res.get_resname())\n",
    "                        data[\"atom_names\"].append(atom.name)\n",
    "                        data[\"is_ligand\"].append(1)\n",
    "                        data[\"residue_idxs\"].append(res.get_id()[1])\n",
    "\n",
    "\n",
    "    return Structure(**{k: np.array(v) for k, v in data.items()})\n",
    "\n",
    "st = read_pdb('/home/qkrgangeun/LigMet/code/src/ligmet/utils/1a05_ligand.pdb')\n"
   ]
  },
  {
   "cell_type": "code",
   "execution_count": 4,
   "metadata": {},
   "outputs": [
    {
     "name": "stdout",
     "output_type": "stream",
     "text": [
      "(5408, 3)\n",
      "(5408,)\n",
      "(5408,)\n",
      "(5408,)\n",
      "(5408,)\n"
     ]
    }
   ],
   "source": [
    "print(st.atom_positions.shape)\n",
    "print(st.atom_elements.shape)\n",
    "print(st.atom_residues.shape)\n",
    "print(st.residue_idxs.shape)\n",
    "print(st.is_ligand.shape)\n",
    "# st.metal_positions\n",
    "# st.metal_types"
   ]
  },
  {
   "cell_type": "code",
   "execution_count": 9,
   "metadata": {},
   "outputs": [
    {
     "name": "stdout",
     "output_type": "stream",
     "text": [
      "[0 0 0 ... 1 1 1]\n",
      "['MET' 'MET' 'MET' ... 'MET' 'MET' 'MET']\n"
     ]
    }
   ],
   "source": [
    "mask = st.is_ligand\n",
    "print(mask)\n",
    "print(st.atom_residues[mask])"
   ]
  },
  {
   "cell_type": "code",
   "execution_count": 23,
   "metadata": {},
   "outputs": [
    {
     "name": "stdout",
     "output_type": "stream",
     "text": [
      "[0 0 0 ... 1 1 1]\n",
      "['MET' 'MET' 'MET' ... 'IPM' 'IPM' 'IPM']\n"
     ]
    }
   ],
   "source": [
    "print(mask)\n",
    "print(st.atom_residues)"
   ]
  },
  {
   "cell_type": "code",
   "execution_count": null,
   "metadata": {},
   "outputs": [],
   "source": []
  }
 ],
 "metadata": {
  "kernelspec": {
   "display_name": "se3_113",
   "language": "python",
   "name": "python3"
  },
  "language_info": {
   "codemirror_mode": {
    "name": "ipython",
    "version": 3
   },
   "file_extension": ".py",
   "mimetype": "text/x-python",
   "name": "python",
   "nbconvert_exporter": "python",
   "pygments_lexer": "ipython3",
   "version": "3.9.19"
  }
 },
 "nbformat": 4,
 "nbformat_minor": 2
}
