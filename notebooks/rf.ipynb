{
 "cells": [
  {
   "cell_type": "code",
   "execution_count": 1,
   "metadata": {},
   "outputs": [
    {
     "name": "stdout",
     "output_type": "stream",
     "text": [
      "총 91765개의 행이 /home/qkrgangeun/LigMet/code/text/biolip/train_metal_binding_sites3.csv로 저장되었습니다.\n"
     ]
    }
   ],
   "source": [
    "import pandas as pd\n",
    "\n",
    "# 파일 경로 설정\n",
    "metal_binding_sites_path = \"/home/qkrgangeun/LigMet/code/text/biolip/metal_binding_sites3_grouped.csv\"\n",
    "train_pdbs_path = \"/home/qkrgangeun/LigMet/code/text/biolip/train_pdbs.txt\"\n",
    "output_path = \"/home/qkrgangeun/LigMet/code/text/biolip/train_metal_binding_sites3.csv\"\n",
    "\n",
    "# metal_binding_sites3_grouped.csv 파일 읽기\n",
    "df = pd.read_csv(metal_binding_sites_path)\n",
    "\n",
    "# train_pdbs.txt 파일에서 pdb id 읽기\n",
    "# 파일 내 각 줄에 pdb id가 하나씩 있다고 가정합니다.\n",
    "with open(train_pdbs_path, \"r\") as f:\n",
    "    train_pdb_list = [line.strip() for line in f if line.strip()]\n",
    "\n",
    "# df에서 \"PDB ID\" 열의 값이 train_pdb_list에 포함된 행만 필터링\n",
    "filtered_df = df[df[\"PDB ID\"].isin(train_pdb_list)]\n",
    "\n",
    "# 필터링한 결과를 train_metal_binding_sites.csv로 저장\n",
    "filtered_df.to_csv(output_path, index=False)\n",
    "\n",
    "print(f\"총 {len(filtered_df)}개의 행이 {output_path}로 저장되었습니다.\")\n"
   ]
  },
  {
   "cell_type": "code",
   "execution_count": 2,
   "metadata": {},
   "outputs": [
    {
     "name": "stdout",
     "output_type": "stream",
     "text": [
      "Unique group_id 개수: 25273\n"
     ]
    }
   ],
   "source": [
    "import pandas as pd\n",
    "\n",
    "# CSV 파일 경로 지정\n",
    "csv_file = \"/home/qkrgangeun/LigMet/code/text/biolip/train_metal_binding_sites3.csv\"\n",
    "\n",
    "# CSV 파일 읽어오기\n",
    "df = pd.read_csv(csv_file)\n",
    "\n",
    "# group_id 열의 고유(unique) 값 개수를 계산\n",
    "unique_group_count = df[\"group_id\"].nunique()\n",
    "\n",
    "print(\"Unique group_id 개수:\", unique_group_count)\n"
   ]
  },
  {
   "cell_type": "code",
   "execution_count": 3,
   "metadata": {},
   "outputs": [
    {
     "name": "stdout",
     "output_type": "stream",
     "text": [
      "       group_id representative  pdb_count\n",
      "0             0           2fv9          1\n",
      "1             1           3fii          1\n",
      "2             2           5jr6          1\n",
      "3             3           1n51          1\n",
      "4             4           5x49          2\n",
      "...         ...            ...        ...\n",
      "25268     28521           4r9x          1\n",
      "25269     28522           4kjk          1\n",
      "25270     28523           4rjl          2\n",
      "25271     28524           3m6z          1\n",
      "25272     28525           5a94         16\n",
      "\n",
      "[25273 rows x 3 columns]\n"
     ]
    }
   ],
   "source": [
    "import pandas as pd\n",
    "\n",
    "# CSV 파일 경로 지정\n",
    "csv_file = \"/home/qkrgangeun/LigMet/code/text/biolip/train_metal_binding_sites3.csv\"\n",
    "\n",
    "# CSV 파일을 DataFrame으로 불러오기\n",
    "df = pd.read_csv(csv_file)\n",
    "\n",
    "# 각 group_id 별로 첫 번째로 나온 PDB ID와 pdb id 개수를 구하기\n",
    "# 여기서는 \"PDB ID\" 열을 기준으로 그룹화한다고 가정합니다.\n",
    "result = df.groupby(\"group_id\").agg(\n",
    "    representative=(\"PDB ID\", \"first\"),\n",
    "    pdb_count=(\"PDB ID\", \"count\")\n",
    ").reset_index()\n",
    "\n",
    "# 결과 출력\n",
    "print(result)\n"
   ]
  },
  {
   "cell_type": "code",
   "execution_count": 5,
   "metadata": {},
   "outputs": [
    {
     "name": "stdout",
     "output_type": "stream",
     "text": [
      "대표 PDB ID가 /home/qkrgangeun/LigMet/code/text/biolip/rf_train_pdbs_group.txt에 저장되었습니다.\n"
     ]
    }
   ],
   "source": [
    "import pandas as pd\n",
    "\n",
    "# CSV 파일 경로 지정\n",
    "csv_file = \"/home/qkrgangeun/LigMet/code/text/biolip/train_metal_binding_sites3.csv\"\n",
    "result_file = \"/home/qkrgangeun/LigMet/code/text/biolip/rf_train_pdbs_group.txt\"\n",
    "\n",
    "# CSV 파일을 DataFrame으로 불러오기\n",
    "df = pd.read_csv(csv_file)\n",
    "\n",
    "# 각 group_id별로 첫 번째로 나온 PDB ID와 pdb id 개수를 구하기 (여기서는 \"PDB ID\" 열을 기준으로 그룹화)\n",
    "result = df.groupby(\"group_id\").agg(\n",
    "    representative=(\"PDB ID\", \"first\"),\n",
    "    pdb_count=(\"PDB ID\", \"count\")\n",
    ").reset_index()\n",
    "\n",
    "# 대표 pdb id 리스트 추출 (\"representative\" 컬럼)\n",
    "pdb_ids = result[\"representative\"].tolist()\n",
    "\n",
    "# 대표 pdb id를 rf_train_pdbs_group.txt에 저장 (한 줄에 하나씩 기록)\n",
    "with open(result_file, \"w\") as f:\n",
    "    for pdb_id in pdb_ids:\n",
    "        f.write(f\"{pdb_id}\\n\")\n",
    "\n",
    "print(f\"대표 PDB ID가 {result_file}에 저장되었습니다.\")\n"
   ]
  },
  {
   "cell_type": "code",
   "execution_count": 4,
   "metadata": {},
   "outputs": [
    {
     "name": "stdout",
     "output_type": "stream",
     "text": [
      "   binding_count  df_count\n",
      "0              1      1454\n",
      "1              2     11147\n",
      "2              3     22054\n",
      "3              4     41847\n",
      "4              5     11537\n",
      "5              6      3675\n",
      "6              7        42\n",
      "7              8         9\n"
     ]
    }
   ],
   "source": [
    "import pandas as pd\n",
    "import ast\n",
    "\n",
    "# CSV 파일 경로 지정\n",
    "csv_file = \"/home/qkrgangeun/LigMet/code/text/biolip/train_metal_binding_sites3.csv\"\n",
    "\n",
    "# CSV 파일 읽기\n",
    "df = pd.read_csv(csv_file)\n",
    "\n",
    "# 각 행의 \"Binding Residues\" 열에서 결합 잔기 개수를 계산하는 함수 정의\n",
    "def count_binding_residues(x):\n",
    "    \"\"\"\n",
    "    x: 문자열 형태의 binding residues 정보 (예: \"('002', 'HIS', 'HIS', 'HIS')\")\n",
    "    반환: 결합 잔기 개수 (정수)\n",
    "    \"\"\"\n",
    "    try:\n",
    "        # 안전하게 문자열을 튜플로 변환\n",
    "        residues = ast.literal_eval(x)\n",
    "        return len(residues)\n",
    "    except Exception as e:\n",
    "        print(f\"파싱 에러: {x} -> {e}\")\n",
    "        return None\n",
    "\n",
    "# \"Binding Residues\" 열에 대해 결합 잔기 개수를 새 컬럼 'binding_count'에 저장\n",
    "df['binding_count'] = df['Binding Residues'].apply(count_binding_residues)\n",
    "\n",
    "# binding_count별로 데이터프레임 행의 개수를 집계\n",
    "group_df = df.groupby('binding_count').size().reset_index(name='df_count')\n",
    "\n",
    "print(group_df)\n"
   ]
  },
  {
   "cell_type": "code",
   "execution_count": null,
   "metadata": {},
   "outputs": [],
   "source": []
  }
 ],
 "metadata": {
  "kernelspec": {
   "display_name": "se3_113",
   "language": "python",
   "name": "python3"
  },
  "language_info": {
   "codemirror_mode": {
    "name": "ipython",
    "version": 3
   },
   "file_extension": ".py",
   "mimetype": "text/x-python",
   "name": "python",
   "nbconvert_exporter": "python",
   "pygments_lexer": "ipython3",
   "version": "3.9.19"
  }
 },
 "nbformat": 4,
 "nbformat_minor": 2
}
